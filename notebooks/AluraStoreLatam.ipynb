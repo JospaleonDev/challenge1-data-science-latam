{
 "cells": [
  {
   "cell_type": "markdown",
   "id": "3d9aad64",
   "metadata": {},
   "source": [
    "# Alura Store Latam — Análisis de Datos\n",
    "\n",
    "Cuaderno base inspirado en el challenge oficial. Ejecuta en orden y adapta los nombres de archivo a tus CSV.\n",
    "\n",
    "**Sugerencia de flujo:** Carga ➜ Perfilado ➜ Limpieza ➜ Métricas ➜ Visualización ➜ Modelo opcional ➜ Conclusiones."
   ]
  },
  {
   "cell_type": "code",
   "execution_count": null,
   "id": "1c825fb7",
   "metadata": {},
   "outputs": [],
   "source": [
    "from pathlib import Path\n",
    "import pandas as pd\n",
    "import numpy as np\n",
    "import matplotlib.pyplot as plt\n",
    "\n",
    "from src.utils import read_csv_safely, save_parquet, ensure_dirs\n",
    "ensure_dirs()\n",
    "\n",
    "DATA_RAW = Path('../data/raw')\n",
    "DATA_PROC = Path('../data/processed')\n",
    "FIG_DIR = Path('../reports/figures')\n",
    "\n",
    "# Lista rápida de archivos disponibles en data/raw\n",
    "list(DATA_RAW.glob('*.csv'))"
   ]
  },
  {
   "cell_type": "markdown",
   "id": "fa64d80b",
   "metadata": {},
   "source": [
    "## 1) Carga de datos\n",
    "Actualiza los nombres de archivo según el repositorio oficial. Ejemplos comunes: `productos.csv`, `categorias.csv`, `ventas.csv` (pueden variar)."
   ]
  },
  {
   "cell_type": "code",
   "execution_count": null,
   "id": "ab6da2ed",
   "metadata": {},
   "outputs": [],
   "source": [
    "# Reemplaza con los nombres reales\n",
    "# df_productos = read_csv_safely('productos.csv')\n",
    "# df_categorias = read_csv_safely('categorias.csv')\n",
    "# df_ventas = read_csv_safely('ventas.csv')\n",
    "\n",
    "# Vista previa\n",
    "# display(df_productos.head(), df_categorias.head(), df_ventas.head())"
   ]
  },
  {
   "cell_type": "markdown",
   "id": "9b1f0d63",
   "metadata": {},
   "source": [
    "## 2) Chequeos de calidad\n",
    "- Tipos de datos\n",
    "- Nulos y duplicados\n",
    "- Valores atípicos simples\n",
    "- Consistencia de claves"
   ]
  },
  {
   "cell_type": "code",
   "execution_count": null,
   "id": "3f60784c",
   "metadata": {},
   "outputs": [],
   "source": [
    "def quick_info(df: pd.DataFrame, name: str):\n",
    "    print(f\"\\n>>> {name}\")\n",
    "    display(df.sample(min(5, len(df))))\n",
    "    display(df.describe(include='all', datetime_is_numeric=True))\n",
    "    print('nulos por columna:')\n",
    "    display(df.isna().sum().sort_values(ascending=False))\n",
    "\n",
    "# quick_info(df_productos, 'productos')"
   ]
  },
  {
   "cell_type": "markdown",
   "id": "3cb6ef30",
   "metadata": {},
   "source": [
    "## 3) Limpieza y normalización\n",
    "- Estandariza strings\n",
    "- Maneja duplicados y nulos\n",
    "- Corrige tipos (fechas, enteros)\n",
    "- Genera tablas limpias en `data/processed/`"
   ]
  },
  {
   "cell_type": "code",
   "execution_count": null,
   "id": "d4f5909f",
   "metadata": {},
   "outputs": [],
   "source": [
    "# Ejemplo de normalización de columnas de texto\n",
    "# cols_txt = ['nombre', 'categoria']\n",
    "# for c in cols_txt:\n",
    "#     if c in df_productos.columns:\n",
    "#         df_productos[c] = df_productos[c].astype(str).str.strip().str.lower()\n",
    "# save_parquet(df_productos, 'productos_limpio')"
   ]
  },
  {
   "cell_type": "markdown",
   "id": "385cb631",
   "metadata": {},
   "source": [
    "## 4) KPIs de negocio\n",
    "- Ingresos totales y por categoría\n",
    "- Ticket promedio\n",
    "- Top productos/categorías\n",
    "- Usuarios/clientes recurrentes"
   ]
  },
  {
   "cell_type": "code",
   "execution_count": null,
   "id": "a93473cb",
   "metadata": {},
   "outputs": [],
   "source": [
    "# Ejemplo (ajusta a tus columnas reales)\n",
    "# df_ventas['monto'] = df_ventas['precio'] * df_ventas['cantidad']\n",
    "# kpi_total = df_ventas['monto'].sum()\n",
    "# kpi_ticket = df_ventas.groupby('id_venta')['monto'].sum().mean()\n",
    "# top_cat = df_ventas.groupby('categoria')['monto'].sum().sort_values(ascending=False).head(10)\n",
    "# print(kpi_total, kpi_ticket)\n",
    "# top_cat.plot(kind='bar'); plt.title('Top categorías por ingreso'); plt.tight_layout(); plt.show()"
   ]
  },
  {
   "cell_type": "markdown",
   "id": "53a8b7c2",
   "metadata": {},
   "source": [
    "## 5) Segmentación simple (opcional)\n",
    "- RFM o clustering rápido con `KMeans`\n",
    "- Cohortes por mes de primera compra"
   ]
  },
  {
   "cell_type": "code",
   "execution_count": null,
   "id": "a5629f44",
   "metadata": {},
   "outputs": [],
   "source": [
    "# from sklearn.cluster import KMeans\n",
    "# features = df_ventas.groupby('cliente_id').agg({'monto':'sum', 'id_venta':'nunique'}).rename(columns={'id_venta':'num_pedidos'})\n",
    "# km = KMeans(n_clusters=4, n_init='auto', random_state=42)\n",
    "# labels = km.fit_predict(features)\n",
    "# features['cluster'] = labels\n",
    "# features.head()"
   ]
  },
  {
   "cell_type": "markdown",
   "id": "2114632c",
   "metadata": {},
   "source": [
    "## 6) Conclusiones e insights\n",
    "- Resumen ejecutivo (bullets)\n",
    "- Recomendaciones accionables\n",
    "- Limitaciones y siguientes pasos"
   ]
  }
 ],
 "metadata": {},
 "nbformat": 4,
 "nbformat_minor": 5
}
